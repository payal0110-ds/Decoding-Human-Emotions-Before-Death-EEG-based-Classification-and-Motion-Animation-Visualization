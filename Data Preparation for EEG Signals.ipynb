{
 "cells": [
  {
   "cell_type": "code",
   "execution_count": 1,
   "id": "b76ddf9b",
   "metadata": {},
   "outputs": [],
   "source": [
    "import pandas as pd\n",
    "import numpy as np"
   ]
  },
  {
   "cell_type": "markdown",
   "id": "7fb308e0",
   "metadata": {},
   "source": [
    "### Importing CSV files"
   ]
  },
  {
   "cell_type": "code",
   "execution_count": 7,
   "id": "cb0de253",
   "metadata": {},
   "outputs": [],
   "source": [
    "Pt1_S1 = pd.read_csv('/Users/payalparida/Desktop/Main EEG /EEG CSV Files/Channels + Time Data/Pt1_S1.csv')\n",
    "Pt2_S1 = pd.read_csv('/Users/payalparida/Desktop/Main EEG /EEG CSV Files/Channels + Time Data/Pt2_S1.csv')\n",
    "Pt3_S1 = pd.read_csv('/Users/payalparida/Desktop/Main EEG /EEG CSV Files/Channels + Time Data/Pt3_S1.csv')\n",
    "Pt4_S1 = pd.read_csv('/Users/payalparida/Desktop/Main EEG /EEG CSV Files/Channels + Time Data/Pt4_S1.csv')\n",
    "Pt1_S2_end = pd.read_csv('/Users/payalparida/Desktop/Main EEG /EEG CSV Files/Channels + Time Data/Pt1_S2_End.csv')\n",
    "Pt2_S2_end = pd.read_csv('/Users/payalparida/Desktop/Main EEG /EEG CSV Files/Channels + Time Data/Pt2_S2_End.csv')\n",
    "Pt3_S2_end = pd.read_csv('/Users/payalparida/Desktop/Main EEG /EEG CSV Files/Channels + Time Data/Pt3_S2_End.csv')\n",
    "Pt4_S2_end = pd.read_csv('/Users/payalparida/Desktop/Main EEG /EEG CSV Files/Channels + Time Data/Pt4_S2_End.csv')"
   ]
  },
  {
   "cell_type": "markdown",
   "id": "d48e221e",
   "metadata": {},
   "source": [
    "### Get Columns "
   ]
  },
  {
   "cell_type": "code",
   "execution_count": 10,
   "id": "baf3c573",
   "metadata": {},
   "outputs": [
    {
     "data": {
      "text/plain": [
       "Index(['Time', 'Fp1', 'F7', 'T3', 'T5', 'O1', 'F3', 'C3', 'P3', 'Fz', 'Cz',\n",
       "       'Fp2', 'F8', 'T4', 'T6', 'O2', 'F4', 'C4', 'P4', 'Pz', 'EKG1'],\n",
       "      dtype='object')"
      ]
     },
     "execution_count": 10,
     "metadata": {},
     "output_type": "execute_result"
    }
   ],
   "source": [
    "Pt1_S1.columns"
   ]
  },
  {
   "cell_type": "markdown",
   "id": "08ed7a27",
   "metadata": {},
   "source": [
    "### Get Summery Information"
   ]
  },
  {
   "cell_type": "code",
   "execution_count": 11,
   "id": "84d7e5ce",
   "metadata": {},
   "outputs": [
    {
     "name": "stdout",
     "output_type": "stream",
     "text": [
      "<class 'pandas.core.frame.DataFrame'>\n",
      "RangeIndex: 61440 entries, 0 to 61439\n",
      "Data columns (total 21 columns):\n",
      " #   Column  Non-Null Count  Dtype  \n",
      "---  ------  --------------  -----  \n",
      " 0   Time    61440 non-null  float64\n",
      " 1   Fp1     61440 non-null  float64\n",
      " 2   F7      61440 non-null  float64\n",
      " 3   T3      61440 non-null  float64\n",
      " 4   T5      61440 non-null  float64\n",
      " 5   O1      61440 non-null  float64\n",
      " 6   F3      61440 non-null  float64\n",
      " 7   C3      61440 non-null  float64\n",
      " 8   P3      61440 non-null  float64\n",
      " 9   Fz      61440 non-null  float64\n",
      " 10  Cz      61440 non-null  float64\n",
      " 11  Fp2     61440 non-null  float64\n",
      " 12  F8      61440 non-null  float64\n",
      " 13  T4      61440 non-null  float64\n",
      " 14  T6      61440 non-null  float64\n",
      " 15  O2      61440 non-null  float64\n",
      " 16  F4      61440 non-null  float64\n",
      " 17  C4      61440 non-null  float64\n",
      " 18  P4      61440 non-null  float64\n",
      " 19  Pz      61440 non-null  float64\n",
      " 20  EKG1    61440 non-null  float64\n",
      "dtypes: float64(21)\n",
      "memory usage: 9.8 MB\n",
      "<class 'pandas.core.frame.DataFrame'>\n",
      "RangeIndex: 51200 entries, 0 to 51199\n",
      "Data columns (total 21 columns):\n",
      " #   Column  Non-Null Count  Dtype  \n",
      "---  ------  --------------  -----  \n",
      " 0   Time    51200 non-null  float64\n",
      " 1   Fp1     51200 non-null  float64\n",
      " 2   F7      51200 non-null  float64\n",
      " 3   T3      51200 non-null  float64\n",
      " 4   T5      51200 non-null  float64\n",
      " 5   O1      51200 non-null  float64\n",
      " 6   F3      51200 non-null  float64\n",
      " 7   C3      51200 non-null  float64\n",
      " 8   P3      51200 non-null  float64\n",
      " 9   Fz      51200 non-null  float64\n",
      " 10  Cz      51200 non-null  float64\n",
      " 11  Fp2     51200 non-null  float64\n",
      " 12  F8      51200 non-null  float64\n",
      " 13  T4      51200 non-null  float64\n",
      " 14  T6      51200 non-null  float64\n",
      " 15  O2      51200 non-null  float64\n",
      " 16  F4      51200 non-null  float64\n",
      " 17  C4      51200 non-null  float64\n",
      " 18  P4      51200 non-null  float64\n",
      " 19  Pz      51200 non-null  float64\n",
      " 20  EKG1    51200 non-null  float64\n",
      "dtypes: float64(21)\n",
      "memory usage: 8.2 MB\n",
      "<class 'pandas.core.frame.DataFrame'>\n",
      "RangeIndex: 51200 entries, 0 to 51199\n",
      "Data columns (total 21 columns):\n",
      " #   Column  Non-Null Count  Dtype  \n",
      "---  ------  --------------  -----  \n",
      " 0   Time    51200 non-null  float64\n",
      " 1   Fp1     51200 non-null  float64\n",
      " 2   F7      51200 non-null  float64\n",
      " 3   T3      51200 non-null  float64\n",
      " 4   T5      51200 non-null  float64\n",
      " 5   O1      51200 non-null  float64\n",
      " 6   F3      51200 non-null  float64\n",
      " 7   C3      51200 non-null  float64\n",
      " 8   P3      51200 non-null  float64\n",
      " 9   Fz      51200 non-null  float64\n",
      " 10  Cz      51200 non-null  float64\n",
      " 11  Fp2     51200 non-null  float64\n",
      " 12  F8      51200 non-null  float64\n",
      " 13  T4      51200 non-null  float64\n",
      " 14  T6      51200 non-null  float64\n",
      " 15  O2      51200 non-null  float64\n",
      " 16  F4      51200 non-null  float64\n",
      " 17  C4      51200 non-null  float64\n",
      " 18  P4      51200 non-null  float64\n",
      " 19  Pz      51200 non-null  float64\n",
      " 20  EKG1    51200 non-null  float64\n",
      "dtypes: float64(21)\n",
      "memory usage: 8.2 MB\n",
      "<class 'pandas.core.frame.DataFrame'>\n",
      "RangeIndex: 51200 entries, 0 to 51199\n",
      "Data columns (total 21 columns):\n",
      " #   Column  Non-Null Count  Dtype  \n",
      "---  ------  --------------  -----  \n",
      " 0   Time    51200 non-null  float64\n",
      " 1   F7      51200 non-null  float64\n",
      " 2   T3      51200 non-null  float64\n",
      " 3   T5      51200 non-null  float64\n",
      " 4   Fp1     51200 non-null  float64\n",
      " 5   F3      51200 non-null  float64\n",
      " 6   C3      51200 non-null  float64\n",
      " 7   P3      51200 non-null  float64\n",
      " 8   O1      51200 non-null  float64\n",
      " 9   Fz      51200 non-null  float64\n",
      " 10  Cz      51200 non-null  float64\n",
      " 11  Pz      51200 non-null  float64\n",
      " 12  Fp2     51200 non-null  float64\n",
      " 13  F4      51200 non-null  float64\n",
      " 14  C4      51200 non-null  float64\n",
      " 15  P4      51200 non-null  float64\n",
      " 16  O2      51200 non-null  float64\n",
      " 17  F8      51200 non-null  float64\n",
      " 18  T4      51200 non-null  float64\n",
      " 19  T6      51200 non-null  float64\n",
      " 20  EKG1    51200 non-null  float64\n",
      "dtypes: float64(21)\n",
      "memory usage: 8.2 MB\n"
     ]
    }
   ],
   "source": [
    "Pt1_S1.info()\n",
    "Pt2_S1.info()\n",
    "Pt3_S1.info()\n",
    "Pt4_S1.info()"
   ]
  },
  {
   "cell_type": "code",
   "execution_count": 20,
   "id": "4816a090",
   "metadata": {},
   "outputs": [
    {
     "name": "stdout",
     "output_type": "stream",
     "text": [
      "<class 'pandas.core.frame.DataFrame'>\n",
      "RangeIndex: 275456 entries, 0 to 275455\n",
      "Data columns (total 20 columns):\n",
      " #   Column  Non-Null Count   Dtype  \n",
      "---  ------  --------------   -----  \n",
      " 0   Fp1     275456 non-null  float64\n",
      " 1   F7      275456 non-null  float64\n",
      " 2   T3      275456 non-null  float64\n",
      " 3   T5      275456 non-null  float64\n",
      " 4   O1      275456 non-null  float64\n",
      " 5   F3      275456 non-null  float64\n",
      " 6   C3      275456 non-null  float64\n",
      " 7   P3      275456 non-null  float64\n",
      " 8   Fz      275456 non-null  float64\n",
      " 9   Cz      275456 non-null  float64\n",
      " 10  Fp2     275456 non-null  float64\n",
      " 11  F8      275456 non-null  float64\n",
      " 12  T4      275456 non-null  float64\n",
      " 13  T6      275456 non-null  float64\n",
      " 14  O2      275456 non-null  float64\n",
      " 15  F4      275456 non-null  float64\n",
      " 16  C4      275456 non-null  float64\n",
      " 17  P4      275456 non-null  float64\n",
      " 18  Pz      275456 non-null  float64\n",
      " 19  EKG1    275456 non-null  float64\n",
      "dtypes: float64(20)\n",
      "memory usage: 42.0 MB\n",
      "<class 'pandas.core.frame.DataFrame'>\n",
      "RangeIndex: 829440 entries, 0 to 829439\n",
      "Data columns (total 20 columns):\n",
      " #   Column  Non-Null Count   Dtype  \n",
      "---  ------  --------------   -----  \n",
      " 0   Fp1     829440 non-null  float64\n",
      " 1   F7      829440 non-null  float64\n",
      " 2   T3      829440 non-null  float64\n",
      " 3   T5      829440 non-null  float64\n",
      " 4   O1      829440 non-null  float64\n",
      " 5   F3      829440 non-null  float64\n",
      " 6   C3      829440 non-null  float64\n",
      " 7   P3      829440 non-null  float64\n",
      " 8   Fz      829440 non-null  float64\n",
      " 9   Cz      829440 non-null  float64\n",
      " 10  Fp2     829440 non-null  float64\n",
      " 11  F8      829440 non-null  float64\n",
      " 12  T4      829440 non-null  float64\n",
      " 13  T6      829440 non-null  float64\n",
      " 14  O2      829440 non-null  float64\n",
      " 15  F4      829440 non-null  float64\n",
      " 16  C4      829440 non-null  float64\n",
      " 17  P4      829440 non-null  float64\n",
      " 18  Pz      829440 non-null  float64\n",
      " 19  EKG1    829440 non-null  float64\n",
      "dtypes: float64(20)\n",
      "memory usage: 126.6 MB\n",
      "<class 'pandas.core.frame.DataFrame'>\n",
      "RangeIndex: 559616 entries, 0 to 559615\n",
      "Data columns (total 20 columns):\n",
      " #   Column  Non-Null Count   Dtype  \n",
      "---  ------  --------------   -----  \n",
      " 0   Fp1     559616 non-null  float64\n",
      " 1   F7      559616 non-null  float64\n",
      " 2   T3      559616 non-null  float64\n",
      " 3   T5      559616 non-null  float64\n",
      " 4   O1      559616 non-null  float64\n",
      " 5   F3      559616 non-null  float64\n",
      " 6   C3      559616 non-null  float64\n",
      " 7   P3      559616 non-null  float64\n",
      " 8   Fz      559616 non-null  float64\n",
      " 9   Cz      559616 non-null  float64\n",
      " 10  Fp2     559616 non-null  float64\n",
      " 11  F8      559616 non-null  float64\n",
      " 12  T4      559616 non-null  float64\n",
      " 13  T6      559616 non-null  float64\n",
      " 14  O2      559616 non-null  float64\n",
      " 15  F4      559616 non-null  float64\n",
      " 16  C4      559616 non-null  float64\n",
      " 17  P4      559616 non-null  float64\n",
      " 18  Pz      559616 non-null  float64\n",
      " 19  EKG1    559616 non-null  float64\n",
      "dtypes: float64(20)\n",
      "memory usage: 85.4 MB\n",
      "<class 'pandas.core.frame.DataFrame'>\n",
      "RangeIndex: 442368 entries, 0 to 442367\n",
      "Data columns (total 20 columns):\n",
      " #   Column  Non-Null Count   Dtype  \n",
      "---  ------  --------------   -----  \n",
      " 0   F7      442368 non-null  float64\n",
      " 1   T3      442368 non-null  float64\n",
      " 2   T5      442368 non-null  float64\n",
      " 3   Fp1     442368 non-null  float64\n",
      " 4   F3      442368 non-null  float64\n",
      " 5   C3      442368 non-null  float64\n",
      " 6   P3      442368 non-null  float64\n",
      " 7   O1      442368 non-null  float64\n",
      " 8   Fz      442368 non-null  float64\n",
      " 9   Cz      442368 non-null  float64\n",
      " 10  Pz      442368 non-null  float64\n",
      " 11  Fp2     442368 non-null  float64\n",
      " 12  F4      442368 non-null  float64\n",
      " 13  C4      442368 non-null  float64\n",
      " 14  P4      442368 non-null  float64\n",
      " 15  O2      442368 non-null  float64\n",
      " 16  F8      442368 non-null  float64\n",
      " 17  T4      442368 non-null  float64\n",
      " 18  T6      442368 non-null  float64\n",
      " 19  EKG1    442368 non-null  float64\n",
      "dtypes: float64(20)\n",
      "memory usage: 67.5 MB\n"
     ]
    }
   ],
   "source": [
    "Pt1_S2_end.info()\n",
    "Pt2_S2_end.info()\n",
    "Pt3_S2_end.info()\n",
    "Pt4_S2_end.info()"
   ]
  },
  {
   "cell_type": "markdown",
   "id": "443a078a",
   "metadata": {},
   "source": [
    "### Count the number of missing values in each column"
   ]
  },
  {
   "cell_type": "code",
   "execution_count": 25,
   "id": "92b14cc4",
   "metadata": {},
   "outputs": [
    {
     "data": {
      "text/plain": [
       "Fp1     0\n",
       "F7      0\n",
       "T3      0\n",
       "T5      0\n",
       "O1      0\n",
       "F3      0\n",
       "C3      0\n",
       "P3      0\n",
       "Fz      0\n",
       "Cz      0\n",
       "Fp2     0\n",
       "F8      0\n",
       "T4      0\n",
       "T6      0\n",
       "O2      0\n",
       "F4      0\n",
       "C4      0\n",
       "P4      0\n",
       "Pz      0\n",
       "EKG1    0\n",
       "dtype: int64"
      ]
     },
     "execution_count": 25,
     "metadata": {},
     "output_type": "execute_result"
    }
   ],
   "source": [
    "Pt1_S1.isnull().sum()"
   ]
  },
  {
   "cell_type": "code",
   "execution_count": 27,
   "id": "17296de9",
   "metadata": {},
   "outputs": [
    {
     "data": {
      "text/plain": [
       "Fp1     0\n",
       "F7      0\n",
       "T3      0\n",
       "T5      0\n",
       "O1      0\n",
       "F3      0\n",
       "C3      0\n",
       "P3      0\n",
       "Fz      0\n",
       "Cz      0\n",
       "Fp2     0\n",
       "F8      0\n",
       "T4      0\n",
       "T6      0\n",
       "O2      0\n",
       "F4      0\n",
       "C4      0\n",
       "P4      0\n",
       "Pz      0\n",
       "EKG1    0\n",
       "dtype: int64"
      ]
     },
     "execution_count": 27,
     "metadata": {},
     "output_type": "execute_result"
    }
   ],
   "source": [
    "Pt2_S1.isnull().sum()"
   ]
  },
  {
   "cell_type": "code",
   "execution_count": 30,
   "id": "8eb8cb9f",
   "metadata": {},
   "outputs": [
    {
     "data": {
      "text/plain": [
       "Fp1     0\n",
       "F7      0\n",
       "T3      0\n",
       "T5      0\n",
       "O1      0\n",
       "F3      0\n",
       "C3      0\n",
       "P3      0\n",
       "Fz      0\n",
       "Cz      0\n",
       "Fp2     0\n",
       "F8      0\n",
       "T4      0\n",
       "T6      0\n",
       "O2      0\n",
       "F4      0\n",
       "C4      0\n",
       "P4      0\n",
       "Pz      0\n",
       "EKG1    0\n",
       "dtype: int64"
      ]
     },
     "execution_count": 30,
     "metadata": {},
     "output_type": "execute_result"
    }
   ],
   "source": [
    "Pt3_S1.isnull().sum()"
   ]
  },
  {
   "cell_type": "code",
   "execution_count": 31,
   "id": "219547fa",
   "metadata": {},
   "outputs": [
    {
     "data": {
      "text/plain": [
       "F7      0\n",
       "T3      0\n",
       "T5      0\n",
       "Fp1     0\n",
       "F3      0\n",
       "C3      0\n",
       "P3      0\n",
       "O1      0\n",
       "Fz      0\n",
       "Cz      0\n",
       "Pz      0\n",
       "Fp2     0\n",
       "F4      0\n",
       "C4      0\n",
       "P4      0\n",
       "O2      0\n",
       "F8      0\n",
       "T4      0\n",
       "T6      0\n",
       "EKG1    0\n",
       "dtype: int64"
      ]
     },
     "execution_count": 31,
     "metadata": {},
     "output_type": "execute_result"
    }
   ],
   "source": [
    "Pt4_S1.isnull().sum()"
   ]
  },
  {
   "cell_type": "code",
   "execution_count": 33,
   "id": "92a38b2a",
   "metadata": {},
   "outputs": [
    {
     "data": {
      "text/plain": [
       "Fp1     0\n",
       "F7      0\n",
       "T3      0\n",
       "T5      0\n",
       "O1      0\n",
       "F3      0\n",
       "C3      0\n",
       "P3      0\n",
       "Fz      0\n",
       "Cz      0\n",
       "Fp2     0\n",
       "F8      0\n",
       "T4      0\n",
       "T6      0\n",
       "O2      0\n",
       "F4      0\n",
       "C4      0\n",
       "P4      0\n",
       "Pz      0\n",
       "EKG1    0\n",
       "dtype: int64"
      ]
     },
     "execution_count": 33,
     "metadata": {},
     "output_type": "execute_result"
    }
   ],
   "source": [
    "Pt1_S2_end.isnull().sum()"
   ]
  },
  {
   "cell_type": "code",
   "execution_count": 35,
   "id": "0de24fff",
   "metadata": {},
   "outputs": [
    {
     "data": {
      "text/plain": [
       "Fp1     0\n",
       "F7      0\n",
       "T3      0\n",
       "T5      0\n",
       "O1      0\n",
       "F3      0\n",
       "C3      0\n",
       "P3      0\n",
       "Fz      0\n",
       "Cz      0\n",
       "Fp2     0\n",
       "F8      0\n",
       "T4      0\n",
       "T6      0\n",
       "O2      0\n",
       "F4      0\n",
       "C4      0\n",
       "P4      0\n",
       "Pz      0\n",
       "EKG1    0\n",
       "dtype: int64"
      ]
     },
     "execution_count": 35,
     "metadata": {},
     "output_type": "execute_result"
    }
   ],
   "source": [
    "Pt2_S2_end.isnull().sum()"
   ]
  },
  {
   "cell_type": "code",
   "execution_count": 37,
   "id": "fee8a40b",
   "metadata": {},
   "outputs": [
    {
     "data": {
      "text/plain": [
       "Fp1     0\n",
       "F7      0\n",
       "T3      0\n",
       "T5      0\n",
       "O1      0\n",
       "F3      0\n",
       "C3      0\n",
       "P3      0\n",
       "Fz      0\n",
       "Cz      0\n",
       "Fp2     0\n",
       "F8      0\n",
       "T4      0\n",
       "T6      0\n",
       "O2      0\n",
       "F4      0\n",
       "C4      0\n",
       "P4      0\n",
       "Pz      0\n",
       "EKG1    0\n",
       "dtype: int64"
      ]
     },
     "execution_count": 37,
     "metadata": {},
     "output_type": "execute_result"
    }
   ],
   "source": [
    "Pt3_S2_end.isnull().sum()"
   ]
  },
  {
   "cell_type": "code",
   "execution_count": 39,
   "id": "ce3aa468",
   "metadata": {},
   "outputs": [
    {
     "data": {
      "text/plain": [
       "F7      0\n",
       "T3      0\n",
       "T5      0\n",
       "Fp1     0\n",
       "F3      0\n",
       "C3      0\n",
       "P3      0\n",
       "O1      0\n",
       "Fz      0\n",
       "Cz      0\n",
       "Pz      0\n",
       "Fp2     0\n",
       "F4      0\n",
       "C4      0\n",
       "P4      0\n",
       "O2      0\n",
       "F8      0\n",
       "T4      0\n",
       "T6      0\n",
       "EKG1    0\n",
       "dtype: int64"
      ]
     },
     "execution_count": 39,
     "metadata": {},
     "output_type": "execute_result"
    }
   ],
   "source": [
    "Pt4_S2_end.isnull().sum()"
   ]
  },
  {
   "cell_type": "markdown",
   "id": "d4f5f921",
   "metadata": {},
   "source": [
    "### Count the number of duplicated rows"
   ]
  },
  {
   "cell_type": "code",
   "execution_count": 42,
   "id": "67ca2b73",
   "metadata": {},
   "outputs": [
    {
     "data": {
      "text/plain": [
       "0"
      ]
     },
     "execution_count": 42,
     "metadata": {},
     "output_type": "execute_result"
    }
   ],
   "source": [
    "Pt1_S1.duplicated().sum()"
   ]
  },
  {
   "cell_type": "code",
   "execution_count": 44,
   "id": "aa3d55a8",
   "metadata": {},
   "outputs": [
    {
     "data": {
      "text/plain": [
       "0"
      ]
     },
     "execution_count": 44,
     "metadata": {},
     "output_type": "execute_result"
    }
   ],
   "source": [
    "Pt2_S1.duplicated().sum()"
   ]
  },
  {
   "cell_type": "code",
   "execution_count": 46,
   "id": "3eb6f866",
   "metadata": {},
   "outputs": [
    {
     "data": {
      "text/plain": [
       "0"
      ]
     },
     "execution_count": 46,
     "metadata": {},
     "output_type": "execute_result"
    }
   ],
   "source": [
    "Pt3_S1.duplicated().sum()"
   ]
  },
  {
   "cell_type": "code",
   "execution_count": 48,
   "id": "c059e764",
   "metadata": {},
   "outputs": [
    {
     "data": {
      "text/plain": [
       "0"
      ]
     },
     "execution_count": 48,
     "metadata": {},
     "output_type": "execute_result"
    }
   ],
   "source": [
    "Pt4_S1.duplicated().sum()"
   ]
  },
  {
   "cell_type": "code",
   "execution_count": 52,
   "id": "dd3dd82d",
   "metadata": {},
   "outputs": [
    {
     "data": {
      "text/plain": [
       "0"
      ]
     },
     "execution_count": 52,
     "metadata": {},
     "output_type": "execute_result"
    }
   ],
   "source": [
    "Pt1_S2_end.duplicated().sum()"
   ]
  },
  {
   "cell_type": "code",
   "execution_count": 54,
   "id": "33c321e7",
   "metadata": {},
   "outputs": [
    {
     "data": {
      "text/plain": [
       "0"
      ]
     },
     "execution_count": 54,
     "metadata": {},
     "output_type": "execute_result"
    }
   ],
   "source": [
    "Pt2_S2_end.duplicated().sum()"
   ]
  },
  {
   "cell_type": "code",
   "execution_count": 56,
   "id": "82936bdd",
   "metadata": {},
   "outputs": [
    {
     "data": {
      "text/plain": [
       "0"
      ]
     },
     "execution_count": 56,
     "metadata": {},
     "output_type": "execute_result"
    }
   ],
   "source": [
    "Pt3_S2_end.duplicated().sum()"
   ]
  },
  {
   "cell_type": "code",
   "execution_count": 58,
   "id": "9bd215e6",
   "metadata": {},
   "outputs": [
    {
     "data": {
      "text/plain": [
       "0"
      ]
     },
     "execution_count": 58,
     "metadata": {},
     "output_type": "execute_result"
    }
   ],
   "source": [
    "Pt4_S2_end.duplicated().sum()"
   ]
  },
  {
   "cell_type": "markdown",
   "id": "8bd94939",
   "metadata": {},
   "source": [
    "## Normalize or scale the data"
   ]
  },
  {
   "cell_type": "code",
   "execution_count": 60,
   "id": "5cec39b1",
   "metadata": {},
   "outputs": [],
   "source": [
    "from sklearn.preprocessing import MinMaxScaler"
   ]
  },
  {
   "cell_type": "code",
   "execution_count": 62,
   "id": "134e9ea4",
   "metadata": {},
   "outputs": [],
   "source": [
    "Pt1_S1_scaled = MinMaxScaler().fit_transform(Pt1_S1)"
   ]
  },
  {
   "cell_type": "code",
   "execution_count": 65,
   "id": "c95f3f74",
   "metadata": {},
   "outputs": [],
   "source": [
    "Pt2_S1_scaled = MinMaxScaler().fit_transform(Pt2_S1)"
   ]
  },
  {
   "cell_type": "code",
   "execution_count": 67,
   "id": "60ab8f3a",
   "metadata": {},
   "outputs": [],
   "source": [
    "Pt3_S1_scaled = MinMaxScaler().fit_transform(Pt3_S1)"
   ]
  },
  {
   "cell_type": "code",
   "execution_count": 69,
   "id": "85a8a2c6",
   "metadata": {},
   "outputs": [],
   "source": [
    "Pt4_S1_scaled = MinMaxScaler().fit_transform(Pt4_S1)"
   ]
  },
  {
   "cell_type": "code",
   "execution_count": 71,
   "id": "ae36bb85",
   "metadata": {},
   "outputs": [],
   "source": [
    "Pt1_S2_end_scaled = MinMaxScaler().fit_transform(Pt1_S2_end)"
   ]
  },
  {
   "cell_type": "code",
   "execution_count": 72,
   "id": "685a9ea5",
   "metadata": {},
   "outputs": [],
   "source": [
    "Pt2_S2_end_scaled = MinMaxScaler().fit_transform(Pt2_S2_end)"
   ]
  },
  {
   "cell_type": "code",
   "execution_count": 73,
   "id": "5997b369",
   "metadata": {},
   "outputs": [],
   "source": [
    "Pt3_S2_end_scaled = MinMaxScaler().fit_transform(Pt3_S2_end)"
   ]
  },
  {
   "cell_type": "code",
   "execution_count": 75,
   "id": "954fe04f",
   "metadata": {},
   "outputs": [],
   "source": [
    "Pt4_S2_end_scaled = MinMaxScaler().fit_transform(Pt4_S2_end)"
   ]
  },
  {
   "cell_type": "markdown",
   "id": "7ab0d7b5",
   "metadata": {},
   "source": [
    "### Standardization"
   ]
  },
  {
   "cell_type": "code",
   "execution_count": 77,
   "id": "070b98b1",
   "metadata": {},
   "outputs": [],
   "source": [
    "from sklearn.preprocessing import StandardScaler"
   ]
  },
  {
   "cell_type": "code",
   "execution_count": 80,
   "id": "0f020292",
   "metadata": {},
   "outputs": [],
   "source": [
    "Pt1_S1_scaled_s = StandardScaler().fit_transform(Pt1_S1)"
   ]
  },
  {
   "cell_type": "code",
   "execution_count": 83,
   "id": "4e9049e3",
   "metadata": {},
   "outputs": [],
   "source": [
    "Pt2_S1_scaled_s = StandardScaler().fit_transform(Pt2_S1)"
   ]
  },
  {
   "cell_type": "code",
   "execution_count": 86,
   "id": "22cd8f4e",
   "metadata": {},
   "outputs": [],
   "source": [
    "Pt3_S1_scaled_s = StandardScaler().fit_transform(Pt3_S1)"
   ]
  },
  {
   "cell_type": "code",
   "execution_count": 88,
   "id": "ab400f7a",
   "metadata": {},
   "outputs": [],
   "source": [
    "Pt4_S1_scaled_s = StandardScaler().fit_transform(Pt4_S1)"
   ]
  },
  {
   "cell_type": "code",
   "execution_count": 90,
   "id": "8185ca39",
   "metadata": {},
   "outputs": [],
   "source": [
    "Pt1_S2_end_scaled_s = StandardScaler().fit_transform(Pt1_S2_end)"
   ]
  },
  {
   "cell_type": "code",
   "execution_count": 92,
   "id": "9e667124",
   "metadata": {},
   "outputs": [],
   "source": [
    "Pt2_S2_end_scaled_s = StandardScaler().fit_transform(Pt2_S2_end)"
   ]
  },
  {
   "cell_type": "code",
   "execution_count": 94,
   "id": "e2861de8",
   "metadata": {},
   "outputs": [],
   "source": [
    "Pt3_S2_end_scaled_s = StandardScaler().fit_transform(Pt3_S2_end)"
   ]
  },
  {
   "cell_type": "code",
   "execution_count": 95,
   "id": "8dc59f9f",
   "metadata": {},
   "outputs": [],
   "source": [
    "Pt4_S2_end_scaled_s = StandardScaler().fit_transform(Pt4_S2_end)"
   ]
  }
 ],
 "metadata": {
  "kernelspec": {
   "display_name": "Python 3 (ipykernel)",
   "language": "python",
   "name": "python3"
  },
  "language_info": {
   "codemirror_mode": {
    "name": "ipython",
    "version": 3
   },
   "file_extension": ".py",
   "mimetype": "text/x-python",
   "name": "python",
   "nbconvert_exporter": "python",
   "pygments_lexer": "ipython3",
   "version": "3.10.9"
  }
 },
 "nbformat": 4,
 "nbformat_minor": 5
}
