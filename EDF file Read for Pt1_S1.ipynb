{
 "cells": [
  {
   "cell_type": "code",
   "execution_count": null,
   "id": "d5d183af",
   "metadata": {},
   "outputs": [],
   "source": [
    "from pyedflib import highlevel\n",
    "import pyedflib as plib\n",
    "import numpy as np\n",
    "import matplotlib.pyplot as plt"
   ]
  },
  {
   "cell_type": "code",
   "execution_count": null,
   "id": "ad82bb6a",
   "metadata": {},
   "outputs": [],
   "source": [
    "path = \"/Users/payalparida/Desktop/Main EEG /EEG EDF files/Pt1_S1.edf\""
   ]
  },
  {
   "cell_type": "code",
   "execution_count": null,
   "id": "c62eaa56",
   "metadata": {},
   "outputs": [],
   "source": [
    "signals, signal_headers, header = highlevel.read_edf(path)"
   ]
  },
  {
   "cell_type": "code",
   "execution_count": null,
   "id": "70ed9126",
   "metadata": {},
   "outputs": [],
   "source": [
    "edf_file_Pt1_S1 = plib.EdfReader(path)"
   ]
  },
  {
   "cell_type": "code",
   "execution_count": null,
   "id": "c7108749",
   "metadata": {},
   "outputs": [],
   "source": [
    "num_signals = edf_file_Pt1_S1.signals_in_file\n",
    "num_samples = edf_file_Pt1_S1.getNSamples()[0]\n",
    "sample_rate = edf_file_Pt1_S1.getSampleFrequency(0)"
   ]
  },
  {
   "cell_type": "code",
   "execution_count": null,
   "id": "f945d31d",
   "metadata": {},
   "outputs": [],
   "source": [
    "print(f\"Number of signals: {num_signals}\")\n",
    "print(f\"Number of samples: {num_samples}\")\n",
    "print(f\"Sample rate of the signal: {sample_rate} Hz\")"
   ]
  },
  {
   "cell_type": "code",
   "execution_count": null,
   "id": "d9426588",
   "metadata": {},
   "outputs": [],
   "source": [
    "for i in range(num_signals):\n",
    "    signal_info = edf_file_Pt1_S1.getSignalHeader(i)\n",
    "    print(f\"Signal {i + 1} Metadata:\")\n",
    "    print(f\"Signal Label: {signal_info['label']}\")\n",
    "    print(f\"Signal Transducer Type: {signal_info['transducer']}\")\n",
    "    print(f\"Signal Physical Dimension: {signal_info['dimension']}\")\n",
    "    print(f\"Signal Physical Minimum: {signal_info['physical_min']}\")\n",
    "    print(f\"Signal Physical Maximum: {signal_info['physical_max']}\")\n",
    "    print(f\"Signal Digital Minimum: {signal_info['digital_min']}\")\n",
    "    print(f\"Signal Digital Maximum: {signal_info['digital_max']}\")\n",
    "    print(f\"Signal Prefiltering: {signal_info['prefilter']}\")"
   ]
  },
  {
   "cell_type": "code",
   "execution_count": null,
   "id": "7ebea958",
   "metadata": {},
   "outputs": [],
   "source": [
    "# Create a series of individual plots, each displaying one EEG signal i.\n",
    "n = len(signals)\n",
    "\n",
    "fig = plt.figure(figsize=(150,50))\n",
    "ax = plt.axes()\n",
    "for i in np.arange(n):\n",
    "    ax.plot(signals[i] , color='green' )\n",
    "    plt.show()"
   ]
  },
  {
   "cell_type": "code",
   "execution_count": null,
   "id": "8da442fe",
   "metadata": {},
   "outputs": [],
   "source": [
    "# Create subplots, each displaying one EEG signal in green.\n",
    "n = len(signals)\n",
    "\n",
    "fig, axes = plt.subplots(nrows=n, ncols=1, figsize=(150,50))\n",
    "for i in np.arange(n):\n",
    "    axes[i].plot(signals[i], color='green')\n",
    "    axes[i].set_xlabel('Time')\n",
    "    axes[i].set_ylabel('Amplitude')\n",
    "    \n",
    "plt.tight_layout()\n",
    "plt.show()"
   ]
  }
 ],
 "metadata": {
  "kernelspec": {
   "display_name": "Python 3 (ipykernel)",
   "language": "python",
   "name": "python3"
  },
  "language_info": {
   "codemirror_mode": {
    "name": "ipython",
    "version": 3
   },
   "file_extension": ".py",
   "mimetype": "text/x-python",
   "name": "python",
   "nbconvert_exporter": "python",
   "pygments_lexer": "ipython3",
   "version": "3.10.9"
  }
 },
 "nbformat": 4,
 "nbformat_minor": 5
}
