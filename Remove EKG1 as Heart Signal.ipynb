{
 "cells": [
  {
   "cell_type": "code",
   "execution_count": 1,
   "id": "ebf5303b",
   "metadata": {},
   "outputs": [],
   "source": [
    "import pandas as pd"
   ]
  },
  {
   "cell_type": "code",
   "execution_count": 2,
   "id": "95b55f82",
   "metadata": {},
   "outputs": [],
   "source": [
    "Pt1_S1 = pd.read_csv(\"/Users/payalparida/Desktop/Main EEG /EEG CSV Files/Channels + Time Data/Pt1_S1.csv\")"
   ]
  },
  {
   "cell_type": "code",
   "execution_count": 3,
   "id": "1e78795d",
   "metadata": {},
   "outputs": [
    {
     "data": {
      "text/plain": [
       "Index(['Time', 'Fp1', 'F7', 'T3', 'T5', 'O1', 'F3', 'C3', 'P3', 'Fz', 'Cz',\n",
       "       'Fp2', 'F8', 'T4', 'T6', 'O2', 'F4', 'C4', 'P4', 'Pz', 'EKG1'],\n",
       "      dtype='object')"
      ]
     },
     "execution_count": 3,
     "metadata": {},
     "output_type": "execute_result"
    }
   ],
   "source": [
    "Pt1_S1.columns"
   ]
  },
  {
   "cell_type": "code",
   "execution_count": 4,
   "id": "e37cd783",
   "metadata": {},
   "outputs": [],
   "source": [
    "Pt1_S1 = Pt1_S1.drop(\"EKG1\", axis='columns')"
   ]
  },
  {
   "cell_type": "code",
   "execution_count": 5,
   "id": "fa4f590c",
   "metadata": {},
   "outputs": [],
   "source": [
    "Pt1_S1.to_csv(\"/Users/payalparida/Desktop/Main EEG /EEG CSV Files/EEG Channels and Time/Pt1_S1.csv\", index=False)"
   ]
  },
  {
   "cell_type": "code",
   "execution_count": 6,
   "id": "6d6057dc",
   "metadata": {},
   "outputs": [],
   "source": [
    "Pt2_S1 = pd.read_csv(\"/Users/payalparida/Desktop/Main EEG /EEG CSV Files/Channels + Time Data/Pt2_S1.csv\")"
   ]
  },
  {
   "cell_type": "code",
   "execution_count": 9,
   "id": "7f593aa9",
   "metadata": {},
   "outputs": [
    {
     "data": {
      "text/plain": [
       "Index(['Time', 'Fp1', 'F7', 'T3', 'T5', 'O1', 'F3', 'C3', 'P3', 'Fz', 'Cz',\n",
       "       'Fp2', 'F8', 'T4', 'T6', 'O2', 'F4', 'C4', 'P4', 'Pz'],\n",
       "      dtype='object')"
      ]
     },
     "execution_count": 9,
     "metadata": {},
     "output_type": "execute_result"
    }
   ],
   "source": [
    "Pt2_S1.columns"
   ]
  },
  {
   "cell_type": "code",
   "execution_count": 8,
   "id": "1bfcef80",
   "metadata": {},
   "outputs": [],
   "source": [
    "Pt2_S1 = Pt2_S1.drop(\"EKG1\", axis='columns')"
   ]
  },
  {
   "cell_type": "code",
   "execution_count": 10,
   "id": "eb2e703b",
   "metadata": {},
   "outputs": [],
   "source": [
    "Pt2_S1.to_csv(\"/Users/payalparida/Desktop/Main EEG /EEG CSV Files/EEG Channels and Time/Pt2_S1.csv\", index=False)"
   ]
  },
  {
   "cell_type": "code",
   "execution_count": 11,
   "id": "e4ed0897",
   "metadata": {},
   "outputs": [],
   "source": [
    "Pt3_S1 = pd.read_csv(\"/Users/payalparida/Desktop/Main EEG /EEG CSV Files/Channels + Time Data/Pt3_S1.csv\")"
   ]
  },
  {
   "cell_type": "code",
   "execution_count": 15,
   "id": "221d3076",
   "metadata": {},
   "outputs": [
    {
     "data": {
      "text/plain": [
       "Index(['Time', 'Fp1', 'F7', 'T3', 'T5', 'O1', 'F3', 'C3', 'P3', 'Fz', 'Cz',\n",
       "       'Fp2', 'F8', 'T4', 'T6', 'O2', 'F4', 'C4', 'P4', 'Pz'],\n",
       "      dtype='object')"
      ]
     },
     "execution_count": 15,
     "metadata": {},
     "output_type": "execute_result"
    }
   ],
   "source": [
    "Pt3_S1.columns"
   ]
  },
  {
   "cell_type": "code",
   "execution_count": 14,
   "id": "64c330ce",
   "metadata": {},
   "outputs": [],
   "source": [
    "Pt3_S1 = Pt3_S1.drop(\"EKG1\", axis='columns')"
   ]
  },
  {
   "cell_type": "code",
   "execution_count": 16,
   "id": "2962cbb2",
   "metadata": {},
   "outputs": [],
   "source": [
    "Pt3_S1.to_csv(\"/Users/payalparida/Desktop/Main EEG /EEG CSV Files/EEG Channels and Time/Pt3_S1.csv\", index=False)"
   ]
  },
  {
   "cell_type": "code",
   "execution_count": 17,
   "id": "ae777a1c",
   "metadata": {},
   "outputs": [],
   "source": [
    "Pt4_S1 = pd.read_csv(\"/Users/payalparida/Desktop/Main EEG /EEG CSV Files/Channels + Time Data/Pt4_S1.csv\")"
   ]
  },
  {
   "cell_type": "code",
   "execution_count": 20,
   "id": "61d59eee",
   "metadata": {},
   "outputs": [
    {
     "data": {
      "text/plain": [
       "Index(['Time', 'F7', 'T3', 'T5', 'Fp1', 'F3', 'C3', 'P3', 'O1', 'Fz', 'Cz',\n",
       "       'Pz', 'Fp2', 'F4', 'C4', 'P4', 'O2', 'F8', 'T4', 'T6'],\n",
       "      dtype='object')"
      ]
     },
     "execution_count": 20,
     "metadata": {},
     "output_type": "execute_result"
    }
   ],
   "source": [
    "Pt4_S1.columns"
   ]
  },
  {
   "cell_type": "code",
   "execution_count": 19,
   "id": "74d67a14",
   "metadata": {},
   "outputs": [],
   "source": [
    "Pt4_S1 = Pt4_S1.drop(\"EKG1\", axis='columns')"
   ]
  },
  {
   "cell_type": "code",
   "execution_count": 21,
   "id": "0f778da8",
   "metadata": {},
   "outputs": [],
   "source": [
    "Pt4_S1.to_csv(\"/Users/payalparida/Desktop/Main EEG /EEG CSV Files/EEG Channels and Time/Pt4_S1.csv\", index=False)"
   ]
  },
  {
   "cell_type": "code",
   "execution_count": 22,
   "id": "c1ea5d92",
   "metadata": {},
   "outputs": [],
   "source": [
    "Pt1_S2_End = pd.read_csv(\"/Users/payalparida/Desktop/Main EEG /EEG CSV Files/Channels + Time Data/Pt1_S2_End.csv\")"
   ]
  },
  {
   "cell_type": "code",
   "execution_count": 23,
   "id": "f0b1c3ef",
   "metadata": {},
   "outputs": [
    {
     "data": {
      "text/plain": [
       "Index(['Time', 'Fp1', 'F7', 'T3', 'T5', 'O1', 'F3', 'C3', 'P3', 'Fz', 'Cz',\n",
       "       'Fp2', 'F8', 'T4', 'T6', 'O2', 'F4', 'C4', 'P4', 'Pz', 'EKG1'],\n",
       "      dtype='object')"
      ]
     },
     "execution_count": 23,
     "metadata": {},
     "output_type": "execute_result"
    }
   ],
   "source": [
    "Pt1_S2_End.columns"
   ]
  },
  {
   "cell_type": "code",
   "execution_count": 24,
   "id": "73e51db4",
   "metadata": {},
   "outputs": [],
   "source": [
    "Pt1_S2_End = Pt1_S2_End.drop(\"EKG1\", axis='columns')"
   ]
  },
  {
   "cell_type": "code",
   "execution_count": 25,
   "id": "3e186c86",
   "metadata": {},
   "outputs": [],
   "source": [
    "Pt1_S2_End.to_csv(\"/Users/payalparida/Desktop/Main EEG /EEG CSV Files/EEG Channels and Time/Pt1_S2_End.csv\", index=False)"
   ]
  },
  {
   "cell_type": "code",
   "execution_count": 26,
   "id": "73dd1c99",
   "metadata": {},
   "outputs": [],
   "source": [
    "Pt2_S2_End = pd.read_csv(\"/Users/payalparida/Desktop/Main EEG /EEG CSV Files/Channels + Time Data/Pt2_S2_End.csv\")"
   ]
  },
  {
   "cell_type": "code",
   "execution_count": 29,
   "id": "2e55d6db",
   "metadata": {},
   "outputs": [
    {
     "data": {
      "text/plain": [
       "Index(['Time', 'Fp1', 'F7', 'T3', 'T5', 'O1', 'F3', 'C3', 'P3', 'Fz', 'Cz',\n",
       "       'Fp2', 'F8', 'T4', 'T6', 'O2', 'F4', 'C4', 'P4', 'Pz'],\n",
       "      dtype='object')"
      ]
     },
     "execution_count": 29,
     "metadata": {},
     "output_type": "execute_result"
    }
   ],
   "source": [
    "Pt2_S2_End.columns"
   ]
  },
  {
   "cell_type": "code",
   "execution_count": 28,
   "id": "0db92a1d",
   "metadata": {},
   "outputs": [],
   "source": [
    "Pt2_S2_End = Pt2_S2_End.drop(\"EKG1\", axis='columns')"
   ]
  },
  {
   "cell_type": "code",
   "execution_count": 30,
   "id": "ad856b77",
   "metadata": {},
   "outputs": [],
   "source": [
    "Pt2_S2_End.to_csv(\"/Users/payalparida/Desktop/Main EEG /EEG CSV Files/EEG Channels and Time/Pt2_S2_End.csv\", index=False)"
   ]
  },
  {
   "cell_type": "code",
   "execution_count": 31,
   "id": "834f4892",
   "metadata": {},
   "outputs": [],
   "source": [
    "Pt3_S2_End = pd.read_csv(\"/Users/payalparida/Desktop/Main EEG /EEG CSV Files/Channels + Time Data/Pt3_S2_End.csv\")"
   ]
  },
  {
   "cell_type": "code",
   "execution_count": 34,
   "id": "661f8bbf",
   "metadata": {},
   "outputs": [
    {
     "data": {
      "text/plain": [
       "Index(['Time', 'Fp1', 'F7', 'T3', 'T5', 'O1', 'F3', 'C3', 'P3', 'Fz', 'Cz',\n",
       "       'Fp2', 'F8', 'T4', 'T6', 'O2', 'F4', 'C4', 'P4', 'Pz'],\n",
       "      dtype='object')"
      ]
     },
     "execution_count": 34,
     "metadata": {},
     "output_type": "execute_result"
    }
   ],
   "source": [
    "Pt3_S2_End.columns"
   ]
  },
  {
   "cell_type": "code",
   "execution_count": 33,
   "id": "b2a57e58",
   "metadata": {},
   "outputs": [],
   "source": [
    "Pt3_S2_End = Pt3_S2_End.drop(\"EKG1\", axis='columns')"
   ]
  },
  {
   "cell_type": "code",
   "execution_count": 35,
   "id": "535d6d20",
   "metadata": {},
   "outputs": [],
   "source": [
    "Pt3_S2_End.to_csv(\"/Users/payalparida/Desktop/Main EEG /EEG CSV Files/EEG Channels and Time/Pt3_S2_End.csv\", index=False)"
   ]
  },
  {
   "cell_type": "code",
   "execution_count": 36,
   "id": "137deb92",
   "metadata": {},
   "outputs": [],
   "source": [
    "Pt4_S2_End = pd.read_csv(\"/Users/payalparida/Desktop/Main EEG /EEG CSV Files/Channels + Time Data/Pt4_S2_End.csv\")"
   ]
  },
  {
   "cell_type": "code",
   "execution_count": 39,
   "id": "495a8582",
   "metadata": {},
   "outputs": [
    {
     "data": {
      "text/plain": [
       "Index(['Time', 'F7', 'T3', 'T5', 'Fp1', 'F3', 'C3', 'P3', 'O1', 'Fz', 'Cz',\n",
       "       'Pz', 'Fp2', 'F4', 'C4', 'P4', 'O2', 'F8', 'T4', 'T6'],\n",
       "      dtype='object')"
      ]
     },
     "execution_count": 39,
     "metadata": {},
     "output_type": "execute_result"
    }
   ],
   "source": [
    "Pt4_S2_End.columns"
   ]
  },
  {
   "cell_type": "code",
   "execution_count": 38,
   "id": "b71dc04c",
   "metadata": {},
   "outputs": [],
   "source": [
    "Pt4_S2_End = Pt4_S2_End.drop(\"EKG1\", axis='columns')"
   ]
  },
  {
   "cell_type": "code",
   "execution_count": 40,
   "id": "d5005a31",
   "metadata": {},
   "outputs": [],
   "source": [
    "Pt4_S2_End.to_csv(\"/Users/payalparida/Desktop/Main EEG /EEG CSV Files/EEG Channels and Time/Pt4_S2_End.csv\", index=False)"
   ]
  }
 ],
 "metadata": {
  "kernelspec": {
   "display_name": "Python 3 (ipykernel)",
   "language": "python",
   "name": "python3"
  },
  "language_info": {
   "codemirror_mode": {
    "name": "ipython",
    "version": 3
   },
   "file_extension": ".py",
   "mimetype": "text/x-python",
   "name": "python",
   "nbconvert_exporter": "python",
   "pygments_lexer": "ipython3",
   "version": "3.10.9"
  }
 },
 "nbformat": 4,
 "nbformat_minor": 5
}
