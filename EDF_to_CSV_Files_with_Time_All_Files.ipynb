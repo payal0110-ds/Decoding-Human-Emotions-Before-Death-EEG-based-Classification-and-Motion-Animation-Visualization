{
 "cells": [
  {
   "cell_type": "code",
   "execution_count": 1,
   "id": "fda84c42",
   "metadata": {},
   "outputs": [
    {
     "name": "stdout",
     "output_type": "stream",
     "text": [
      "Requirement already satisfied: pyedflib in /Users/payalparida/anaconda3/lib/python3.10/site-packages (0.1.32)\n",
      "Requirement already satisfied: pandas in /Users/payalparida/anaconda3/lib/python3.10/site-packages (1.5.3)\n",
      "Requirement already satisfied: numpy>=1.9.1 in /Users/payalparida/anaconda3/lib/python3.10/site-packages (from pyedflib) (1.23.5)\n",
      "Requirement already satisfied: python-dateutil>=2.8.1 in /Users/payalparida/anaconda3/lib/python3.10/site-packages (from pandas) (2.8.2)\n",
      "Requirement already satisfied: pytz>=2020.1 in /Users/payalparida/anaconda3/lib/python3.10/site-packages (from pandas) (2022.7)\n",
      "Requirement already satisfied: six>=1.5 in /Users/payalparida/anaconda3/lib/python3.10/site-packages (from python-dateutil>=2.8.1->pandas) (1.16.0)\n",
      "Note: you may need to restart the kernel to use updated packages.\n"
     ]
    }
   ],
   "source": [
    "pip install pyedflib pandas"
   ]
  },
  {
   "cell_type": "code",
   "execution_count": 2,
   "id": "0c9f791a",
   "metadata": {},
   "outputs": [],
   "source": [
    "import pyedflib\n",
    "import pandas as pd\n",
    "import numpy as np"
   ]
  },
  {
   "cell_type": "markdown",
   "id": "674f95fe",
   "metadata": {},
   "source": [
    "## Pt1_S1.CSV"
   ]
  },
  {
   "cell_type": "code",
   "execution_count": 3,
   "id": "58667295",
   "metadata": {},
   "outputs": [],
   "source": [
    "edf_file_path = '/Users/payalparida/Desktop/Main EEG /EEG EDF files/Pt1_S1.edf'\n",
    "edf_file = pyedflib.EdfReader(edf_file_path)"
   ]
  },
  {
   "cell_type": "code",
   "execution_count": 4,
   "id": "d3d2e1a2",
   "metadata": {},
   "outputs": [],
   "source": [
    "n_channels = edf_file.signals_in_file\n",
    "signal_labels = edf_file.getSignalLabels()\n",
    "fs = int(edf_file.getSampleFrequency(0))  # Assuming all channels have the same sampling rate\n",
    "\n",
    "# Before, check taht all channels are having the same Sampling Rate while checking the EDF file or EEG signal metadata"
   ]
  },
  {
   "cell_type": "code",
   "execution_count": 5,
   "id": "73a9b739",
   "metadata": {},
   "outputs": [],
   "source": [
    "n_samples = edf_file.getNSamples()[0]\n",
    "time = (1/fs) * np.array(range(n_samples)) "
   ]
  },
  {
   "cell_type": "code",
   "execution_count": 6,
   "id": "637afffc",
   "metadata": {},
   "outputs": [],
   "source": [
    "signals = []\n",
    "for i in range(n_channels):\n",
    "    signal = edf_file.readSignal(i)\n",
    "    signals.append(signal)\n",
    "\n",
    "data_dict = {'Time': time}\n",
    "for i, label in enumerate(signal_labels):\n",
    "    data_dict[label] = signals[i]\n",
    "\n",
    "df = pd.DataFrame(data_dict)"
   ]
  },
  {
   "cell_type": "code",
   "execution_count": 7,
   "id": "a713ee83",
   "metadata": {},
   "outputs": [],
   "source": [
    "csv_file_path = '/Users/payalparida/Desktop/Main EEG /EEG CSV Files/Channels + Time Data/Pt1_S1.csv'\n",
    "df.to_csv(csv_file_path, index=False)"
   ]
  },
  {
   "cell_type": "markdown",
   "id": "b36ef163",
   "metadata": {},
   "source": [
    "## Pt1_S2_End.CSV"
   ]
  },
  {
   "cell_type": "code",
   "execution_count": 8,
   "id": "5d12570f",
   "metadata": {},
   "outputs": [],
   "source": [
    "edf_file_path = '/Users/payalparida/Desktop/Main EEG /EEG EDF files/Pt1_S2-end.edf'\n",
    "edf_file = pyedflib.EdfReader(edf_file_path)"
   ]
  },
  {
   "cell_type": "code",
   "execution_count": 9,
   "id": "35a6ea1c",
   "metadata": {},
   "outputs": [],
   "source": [
    "n_channels = edf_file.signals_in_file\n",
    "signal_labels = edf_file.getSignalLabels()\n",
    "fs = int(edf_file.getSampleFrequency(0))  # Assuming all channels have the same sampling rate\n",
    "\n",
    "# Before, check taht all channels are having the same Sampling Rate while checking the EDF file or EEG signal metadata"
   ]
  },
  {
   "cell_type": "code",
   "execution_count": 10,
   "id": "78dd46d5",
   "metadata": {},
   "outputs": [],
   "source": [
    "n_samples = edf_file.getNSamples()[0]\n",
    "time = (1/fs) * np.array(range(n_samples))  "
   ]
  },
  {
   "cell_type": "code",
   "execution_count": 11,
   "id": "5461993b",
   "metadata": {},
   "outputs": [],
   "source": [
    "signals = []\n",
    "for i in range(n_channels):\n",
    "    signal = edf_file.readSignal(i)\n",
    "    signals.append(signal)\n",
    "\n",
    "data_dict = {'Time': time}\n",
    "for i, label in enumerate(signal_labels):\n",
    "    data_dict[label] = signals[i]\n",
    "\n",
    "df = pd.DataFrame(data_dict)"
   ]
  },
  {
   "cell_type": "code",
   "execution_count": 12,
   "id": "bc0f1b14",
   "metadata": {},
   "outputs": [],
   "source": [
    "csv_file_path = '/Users/payalparida/Desktop/Main EEG /EEG CSV Files/Channels + Time Data/Pt1_S2_End.csv'\n",
    "df.to_csv(csv_file_path, index=False)"
   ]
  },
  {
   "cell_type": "markdown",
   "id": "a6d0b569",
   "metadata": {},
   "source": [
    "## Pt2_S1.CSV"
   ]
  },
  {
   "cell_type": "code",
   "execution_count": 13,
   "id": "1afe467d",
   "metadata": {},
   "outputs": [],
   "source": [
    "edf_file_path = '/Users/payalparida/Desktop/Main EEG /EEG EDF files/Pt2_S1.edf'\n",
    "edf_file = pyedflib.EdfReader(edf_file_path)"
   ]
  },
  {
   "cell_type": "code",
   "execution_count": 14,
   "id": "435f1c38",
   "metadata": {},
   "outputs": [],
   "source": [
    "n_channels = edf_file.signals_in_file\n",
    "signal_labels = edf_file.getSignalLabels()\n",
    "fs = int(edf_file.getSampleFrequency(0))  # Assuming all channels have the same sampling rate\n",
    "\n",
    "# Before, check taht all channels are having the same Sampling Rate while checking the EDF file or EEG signal metadata"
   ]
  },
  {
   "cell_type": "code",
   "execution_count": 15,
   "id": "82c206e0",
   "metadata": {},
   "outputs": [],
   "source": [
    "n_samples = edf_file.getNSamples()[0]\n",
    "time = (1/fs) * np.array(range(n_samples)) "
   ]
  },
  {
   "cell_type": "code",
   "execution_count": 16,
   "id": "77822a6e",
   "metadata": {},
   "outputs": [],
   "source": [
    "signals = []\n",
    "for i in range(n_channels):\n",
    "    signal = edf_file.readSignal(i)\n",
    "    signals.append(signal)\n",
    "\n",
    "data_dict = {'Time': time}\n",
    "for i, label in enumerate(signal_labels):\n",
    "    data_dict[label] = signals[i]\n",
    "\n",
    "df = pd.DataFrame(data_dict)"
   ]
  },
  {
   "cell_type": "code",
   "execution_count": 17,
   "id": "68466b00",
   "metadata": {},
   "outputs": [],
   "source": [
    "csv_file_path = '/Users/payalparida/Desktop/Main EEG /EEG CSV Files/Channels + Time Data/Pt2_S1.csv'\n",
    "df.to_csv(csv_file_path, index=False)"
   ]
  },
  {
   "cell_type": "markdown",
   "id": "aa4fe654",
   "metadata": {},
   "source": [
    "## Pt2_S2_End.CSV"
   ]
  },
  {
   "cell_type": "code",
   "execution_count": 18,
   "id": "6643da93",
   "metadata": {},
   "outputs": [],
   "source": [
    "edf_file_path = '/Users/payalparida/Desktop/Main EEG /EEG EDF files/Pt2_S2-end.edf'\n",
    "edf_file = pyedflib.EdfReader(edf_file_path)"
   ]
  },
  {
   "cell_type": "code",
   "execution_count": 19,
   "id": "834b2d80",
   "metadata": {},
   "outputs": [],
   "source": [
    "n_channels = edf_file.signals_in_file\n",
    "signal_labels = edf_file.getSignalLabels()\n",
    "fs = int(edf_file.getSampleFrequency(0))  # Assuming all channels have the same sampling rate\n",
    "\n",
    "# Before, check taht all channels are having the same Sampling Rate while checking the EDF file or EEG signal metadata"
   ]
  },
  {
   "cell_type": "code",
   "execution_count": 20,
   "id": "8daac214",
   "metadata": {},
   "outputs": [],
   "source": [
    "n_samples = edf_file.getNSamples()[0]\n",
    "time = (1/fs) * np.array(range(n_samples))  "
   ]
  },
  {
   "cell_type": "code",
   "execution_count": 21,
   "id": "ad589301",
   "metadata": {},
   "outputs": [],
   "source": [
    "signals = []\n",
    "for i in range(n_channels):\n",
    "    signal = edf_file.readSignal(i)\n",
    "    signals.append(signal)\n",
    "\n",
    "data_dict = {'Time': time}\n",
    "for i, label in enumerate(signal_labels):\n",
    "    data_dict[label] = signals[i]\n",
    "\n",
    "df = pd.DataFrame(data_dict)"
   ]
  },
  {
   "cell_type": "code",
   "execution_count": 22,
   "id": "ea9c6cbd",
   "metadata": {},
   "outputs": [],
   "source": [
    "csv_file_path = '/Users/payalparida/Desktop/Main EEG /EEG CSV Files/Channels + Time Data/Pt2_S2_End.csv'\n",
    "df.to_csv(csv_file_path, index=False)"
   ]
  },
  {
   "cell_type": "markdown",
   "id": "47cf55bb",
   "metadata": {},
   "source": [
    "## Pt3_S1.CSV"
   ]
  },
  {
   "cell_type": "code",
   "execution_count": 23,
   "id": "855ea6bb",
   "metadata": {},
   "outputs": [],
   "source": [
    "edf_file_path = '/Users/payalparida/Desktop/Main EEG /EEG EDF files/Pt3_S1.edf'\n",
    "edf_file = pyedflib.EdfReader(edf_file_path)"
   ]
  },
  {
   "cell_type": "code",
   "execution_count": 24,
   "id": "bc8b26a5",
   "metadata": {},
   "outputs": [],
   "source": [
    "n_channels = edf_file.signals_in_file\n",
    "signal_labels = edf_file.getSignalLabels()\n",
    "fs = int(edf_file.getSampleFrequency(0))  # Assuming all channels have the same sampling rate\n",
    "\n",
    "# Before, check taht all channels are having the same Sampling Rate while checking the EDF file or EEG signal metadata"
   ]
  },
  {
   "cell_type": "code",
   "execution_count": 25,
   "id": "5d64850b",
   "metadata": {},
   "outputs": [],
   "source": [
    "n_samples = edf_file.getNSamples()[0]\n",
    "time = (1/fs) * np.array(range(n_samples)) "
   ]
  },
  {
   "cell_type": "code",
   "execution_count": 26,
   "id": "ba760115",
   "metadata": {},
   "outputs": [],
   "source": [
    "signals = []\n",
    "for i in range(n_channels):\n",
    "    signal = edf_file.readSignal(i)\n",
    "    signals.append(signal)\n",
    "\n",
    "data_dict = {'Time': time}\n",
    "for i, label in enumerate(signal_labels):\n",
    "    data_dict[label] = signals[i]\n",
    "\n",
    "df = pd.DataFrame(data_dict)"
   ]
  },
  {
   "cell_type": "code",
   "execution_count": 27,
   "id": "4307b953",
   "metadata": {},
   "outputs": [],
   "source": [
    "csv_file_path = '/Users/payalparida/Desktop/Main EEG /EEG CSV Files/Channels + Time Data/Pt3_S1.csv'\n",
    "df.to_csv(csv_file_path, index=False)"
   ]
  },
  {
   "cell_type": "markdown",
   "id": "7218d3ef",
   "metadata": {},
   "source": [
    "## Pt3_S2_End.CSV"
   ]
  },
  {
   "cell_type": "code",
   "execution_count": 28,
   "id": "33f486f6",
   "metadata": {},
   "outputs": [],
   "source": [
    "edf_file_path = '/Users/payalparida/Desktop/Main EEG /EEG EDF files/Pt3_S2-end.edf'\n",
    "edf_file = pyedflib.EdfReader(edf_file_path)"
   ]
  },
  {
   "cell_type": "code",
   "execution_count": 29,
   "id": "7546594a",
   "metadata": {},
   "outputs": [],
   "source": [
    "n_channels = edf_file.signals_in_file\n",
    "signal_labels = edf_file.getSignalLabels()\n",
    "fs = int(edf_file.getSampleFrequency(0))  # Assuming all channels have the same sampling rate\n",
    "\n",
    "# Before, check taht all channels are having the same Sampling Rate while checking the EDF file or EEG signal metadata"
   ]
  },
  {
   "cell_type": "code",
   "execution_count": 30,
   "id": "e89ad90f",
   "metadata": {},
   "outputs": [],
   "source": [
    "n_samples = edf_file.getNSamples()[0]\n",
    "time = (1/fs) * np.array(range(n_samples)) "
   ]
  },
  {
   "cell_type": "code",
   "execution_count": 31,
   "id": "00f25648",
   "metadata": {},
   "outputs": [],
   "source": [
    "signals = []\n",
    "for i in range(n_channels):\n",
    "    signal = edf_file.readSignal(i)\n",
    "    signals.append(signal)\n",
    "\n",
    "data_dict = {'Time': time}\n",
    "for i, label in enumerate(signal_labels):\n",
    "    data_dict[label] = signals[i]\n",
    "\n",
    "df = pd.DataFrame(data_dict)"
   ]
  },
  {
   "cell_type": "code",
   "execution_count": 32,
   "id": "ab12dfa1",
   "metadata": {},
   "outputs": [],
   "source": [
    "csv_file_path = '/Users/payalparida/Desktop/Main EEG /EEG CSV Files/Channels + Time Data/Pt3_S2_End.csv'\n",
    "df.to_csv(csv_file_path, index=False)"
   ]
  },
  {
   "cell_type": "markdown",
   "id": "1c62812c",
   "metadata": {},
   "source": [
    "## Pt4_S1.CSV"
   ]
  },
  {
   "cell_type": "code",
   "execution_count": 33,
   "id": "8880802f",
   "metadata": {},
   "outputs": [],
   "source": [
    "edf_file_path = '/Users/payalparida/Desktop/Main EEG /EEG EDF files/Pt4_S1.edf'\n",
    "edf_file = pyedflib.EdfReader(edf_file_path)"
   ]
  },
  {
   "cell_type": "code",
   "execution_count": 34,
   "id": "1def0d77",
   "metadata": {},
   "outputs": [],
   "source": [
    "n_channels = edf_file.signals_in_file\n",
    "signal_labels = edf_file.getSignalLabels()\n",
    "fs = int(edf_file.getSampleFrequency(0))  # Assuming all channels have the same sampling rate\n",
    "\n",
    "# Before, check taht all channels are having the same Sampling Rate while checking the EDF file or EEG signal metadata"
   ]
  },
  {
   "cell_type": "code",
   "execution_count": 35,
   "id": "cdca8904",
   "metadata": {},
   "outputs": [],
   "source": [
    "n_samples = edf_file.getNSamples()[0]\n",
    "time = (1/fs) * np.array(range(n_samples))  "
   ]
  },
  {
   "cell_type": "code",
   "execution_count": 36,
   "id": "dc11a08a",
   "metadata": {},
   "outputs": [],
   "source": [
    "signals = []\n",
    "for i in range(n_channels):\n",
    "    signal = edf_file.readSignal(i)\n",
    "    signals.append(signal)\n",
    "\n",
    "data_dict = {'Time': time}\n",
    "for i, label in enumerate(signal_labels):\n",
    "    data_dict[label] = signals[i]\n",
    "\n",
    "df = pd.DataFrame(data_dict)"
   ]
  },
  {
   "cell_type": "code",
   "execution_count": 37,
   "id": "f0f32355",
   "metadata": {},
   "outputs": [],
   "source": [
    "csv_file_path = '/Users/payalparida/Desktop/Main EEG /EEG CSV Files/Channels + Time Data/Pt4_S1.csv'\n",
    "df.to_csv(csv_file_path, index=False)"
   ]
  },
  {
   "cell_type": "markdown",
   "id": "4bef3e2e",
   "metadata": {},
   "source": [
    "## Pt4_S2_End.CSV"
   ]
  },
  {
   "cell_type": "code",
   "execution_count": 38,
   "id": "f3e29e0d",
   "metadata": {},
   "outputs": [],
   "source": [
    "edf_file_path = '/Users/payalparida/Desktop/Main EEG /EEG EDF files/Pt4_S2-end.edf'\n",
    "edf_file = pyedflib.EdfReader(edf_file_path)"
   ]
  },
  {
   "cell_type": "code",
   "execution_count": 39,
   "id": "e8cb5c74",
   "metadata": {},
   "outputs": [],
   "source": [
    "n_channels = edf_file.signals_in_file\n",
    "signal_labels = edf_file.getSignalLabels()\n",
    "fs = int(edf_file.getSampleFrequency(0))  # Assuming all channels have the same sampling rate\n",
    "\n",
    "# Before, check taht all channels are having the same Sampling Rate while checking the EDF file or EEG signal metadata"
   ]
  },
  {
   "cell_type": "code",
   "execution_count": 40,
   "id": "745fb357",
   "metadata": {},
   "outputs": [],
   "source": [
    "n_samples = edf_file.getNSamples()[0]\n",
    "time = (1/fs) * np.array(range(n_samples)) "
   ]
  },
  {
   "cell_type": "code",
   "execution_count": 41,
   "id": "981596c4",
   "metadata": {},
   "outputs": [],
   "source": [
    "signals = []\n",
    "for i in range(n_channels):\n",
    "    signal = edf_file.readSignal(i)\n",
    "    signals.append(signal)\n",
    "\n",
    "data_dict = {'Time': time}\n",
    "for i, label in enumerate(signal_labels):\n",
    "    data_dict[label] = signals[i]\n",
    "\n",
    "df = pd.DataFrame(data_dict)"
   ]
  },
  {
   "cell_type": "code",
   "execution_count": 42,
   "id": "a828b804",
   "metadata": {},
   "outputs": [],
   "source": [
    "csv_file_path = '/Users/payalparida/Desktop/Main EEG /EEG CSV Files/Channels + Time Data/Pt4_S2_End.csv'\n",
    "df.to_csv(csv_file_path, index=False)"
   ]
  }
 ],
 "metadata": {
  "kernelspec": {
   "display_name": "Python 3 (ipykernel)",
   "language": "python",
   "name": "python3"
  },
  "language_info": {
   "codemirror_mode": {
    "name": "ipython",
    "version": 3
   },
   "file_extension": ".py",
   "mimetype": "text/x-python",
   "name": "python",
   "nbconvert_exporter": "python",
   "pygments_lexer": "ipython3",
   "version": "3.10.9"
  }
 },
 "nbformat": 4,
 "nbformat_minor": 5
}
