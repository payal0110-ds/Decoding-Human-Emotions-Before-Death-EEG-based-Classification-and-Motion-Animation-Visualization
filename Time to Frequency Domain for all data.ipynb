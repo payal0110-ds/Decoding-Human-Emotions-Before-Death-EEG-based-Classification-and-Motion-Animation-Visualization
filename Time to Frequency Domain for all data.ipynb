{
 "cells": [
  {
   "cell_type": "code",
   "execution_count": null,
   "id": "2ab5080f",
   "metadata": {},
   "outputs": [],
   "source": [
    "path = './Filtered Data/*'"
   ]
  },
  {
   "cell_type": "code",
   "execution_count": null,
   "id": "0584ee6b",
   "metadata": {},
   "outputs": [],
   "source": [
    "for path in glob.glob(path):\n",
    "    name = path.split (' /')[2].split('.')[0]\n",
    "    print(\"Path name\",name)\n",
    "    data = pd.read_csv(path)\n",
    "    save_mydata(data,name )"
   ]
  },
  {
   "cell_type": "code",
   "execution_count": 1,
   "id": "cbca421c",
   "metadata": {},
   "outputs": [],
   "source": [
    "def save_mydata(df,name):\n",
    "    custom_channel = []\n",
    "    custom_name = []\n",
    "    mode = 0\n",
    "    time_points_Pt2_S1 = df[\"Time\" ].values\n",
    "    sampling_frequency_Pt2_S1 = 1.0/(time_points_Pt2_S1[1] - time_points_Pt2_S1[0])\n",
    "    \n",
    "    channel_data_Pt2_S1 = df.drop(columns=[ \"Time\" ])\n",
    "    \n",
    "    custom_channel.clear()\n",
    "    custom_name.clear()\n",
    "    for channel_name, channel_values in channel_data_Pt2_S1.items( ):\n",
    "        fft_result_Pt2_S1 = np.fft.fft (channel_values)\n",
    "        freq_values_Pt2_S1 = np.fft.fftfreq(len(channel_values), d=1/sampling_frequency_Pt2-S1)\n",
    "        \n",
    "        dominant_freq_index = np.argmax(np.abs(fft_result_Pt2_S1))\n",
    "        dominant_freq = freq_values_Pt2_S1[dominant_freq_index]\n",
    "        \n",
    "        custom_channel.append(channel_name)\n",
    "        custom_name.append(dominant_freq)\n",
    "        mode = st.mode(custom_name)\n",
    "        \n",
    "        save_this = pd.DataFrame(columns =['channel', 'frequency', 'mode'])\n",
    "        save_this['channel'] = custom_channel\n",
    "        save_this['frequency'] = custom_name\n",
    "        save_this['frequency'] = save_this['frequency'].abs()\n",
    "        save_this['mode'] = mode\n",
    "        save_this['mode'] = save_this['mode'].abs( )\n",
    "        #df['count'].abs()\n",
    "        file_name = name + '.csv'\n",
    "        save_this.to_csv(file_name )"
   ]
  }
 ],
 "metadata": {
  "kernelspec": {
   "display_name": "Python 3 (ipykernel)",
   "language": "python",
   "name": "python3"
  },
  "language_info": {
   "codemirror_mode": {
    "name": "ipython",
    "version": 3
   },
   "file_extension": ".py",
   "mimetype": "text/x-python",
   "name": "python",
   "nbconvert_exporter": "python",
   "pygments_lexer": "ipython3",
   "version": "3.10.9"
  }
 },
 "nbformat": 4,
 "nbformat_minor": 5
}
